{
 "cells": [
  {
   "cell_type": "code",
   "execution_count": 5,
   "metadata": {},
   "outputs": [
    {
     "name": "stdout",
     "output_type": "stream",
     "text": [
      ">1 f([-2.74290923]) = 7.52355\n",
      ">3 f([-2.65873147]) = 7.06885\n",
      ">4 f([-2.52197291]) = 6.36035\n",
      ">5 f([-2.46450214]) = 6.07377\n",
      ">7 f([-2.44740961]) = 5.98981\n",
      ">9 f([-2.28364676]) = 5.21504\n",
      "Done!\n",
      "f([-2.28364676]) = 5.215043\n"
     ]
    },
    {
     "data": {
      "image/png": "[encoded data removed]",
      "text/plain": [
       "<Figure size 432x288 with 1 Axes>"
      ]
     },
     "metadata": {
      "needs_background": "light"
     },
     "output_type": "display_data"
    }
   ],
   "source": [
    "from numpy import asarray\n",
    "from numpy.random import randn\n",
    "from numpy.random import rand\n",
    "from numpy.random import seed\n",
    "from matplotlib import pyplot\n",
    "\n",
    "# objective function\n",
    "def objective(x):\n",
    "    return x[0]**2.0\n",
    "\n",
    "def hillclimbing(objective, bounds, n_iterations, step_size):\n",
    "    solution = bounds[:, 0] + rand(len(bounds)) * (bounds[:, 1] - bounds[:, 0])\n",
    "    solution_eval = objective(solution)\n",
    "    scores = list()\n",
    "    scores.append(solution_eval)\n",
    "    for i in range(n_iterations):\n",
    "        candidate = solution + randn(len(bounds)) * step_size\n",
    "        candidte_eval = objective(candidate)\n",
    "        if candidte_eval <= solution_eval:\n",
    "            solution, solution_eval = candidate, candidte_eval\n",
    "            scores.append(solution_eval)\n",
    "            print('>%d f(%s) = %.5f' % (i, solution, solution_eval))\n",
    "    return [solution, solution_eval, scores]\n",
    "\n",
    "seed(5)\n",
    "bounds = asarray([[-5.0, 5.0]])\n",
    "n_iterations = 10\n",
    "step_size = 0.1\n",
    "best, score, scores = hillclimbing(objective, bounds, n_iterations, step_size)\n",
    "print('Done!')\n",
    "print('f(%s) = %f' % (best, score))\n",
    "pyplot.plot(scores, '.-')\n",
    "pyplot.xlabel('Improvement Number')\n",
    "pyplot.ylabel('Evaluation f(x)')\n",
    "pyplot.show()"
   ]
  },
  {
   "cell_type": "code",
   "execution_count": null,
   "metadata": {},
   "outputs": [],
   "source": [
    " "
   ]
  },
  {
   "cell_type": "code",
   "execution_count": null,
   "metadata": {},
   "outputs": [],
   "source": []
  },
  {
   "cell_type": "code",
   "execution_count": null,
   "metadata": {},
   "outputs": [],
   "source": []
  }
 ],
 "metadata": {
  "kernelspec": {
   "display_name": "Python 3",
   "language": "python",
   "name": "python3"
  },
  "language_info": {
   "codemirror_mode": {
    "name": "ipython",
    "version": 3
   },
   "file_extension": ".py",
   "mimetype": "text/x-python",
   "name": "python",
   "nbconvert_exporter": "python",
   "pygments_lexer": "ipython3",
   "version": "3.8.5"
  }
 },
 "nbformat": 4,
 "nbformat_minor": 4
}
